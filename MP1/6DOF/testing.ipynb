{
 "cells": [
  {
   "cell_type": "code",
   "execution_count": 1,
   "metadata": {},
   "outputs": [],
   "source": [
    "import torch"
   ]
  },
  {
   "cell_type": "code",
   "execution_count": 22,
   "metadata": {},
   "outputs": [],
   "source": [
    "testing = torch.tensor([[9., 10., 11.], [12., 13., 14.]])"
   ]
  },
  {
   "cell_type": "code",
   "execution_count": 14,
   "metadata": {},
   "outputs": [
    {
     "data": {
      "text/plain": [
       "torch.Size([2])"
      ]
     },
     "execution_count": 14,
     "metadata": {},
     "output_type": "execute_result"
    }
   ],
   "source": [
    "testing.shape"
   ]
  },
  {
   "cell_type": "code",
   "execution_count": 16,
   "metadata": {},
   "outputs": [
    {
     "ename": "RuntimeError",
     "evalue": "a Tensor with 2 elements cannot be converted to Scalar",
     "output_type": "error",
     "traceback": [
      "\u001b[0;31m---------------------------------------------------------------------------\u001b[0m",
      "\u001b[0;31mRuntimeError\u001b[0m                              Traceback (most recent call last)",
      "Cell \u001b[0;32mIn[16], line 1\u001b[0m\n\u001b[0;32m----> 1\u001b[0m \u001b[43mtesting\u001b[49m\u001b[38;5;241;43m.\u001b[39;49m\u001b[43mitem\u001b[49m\u001b[43m(\u001b[49m\u001b[43m)\u001b[49m\n",
      "\u001b[0;31mRuntimeError\u001b[0m: a Tensor with 2 elements cannot be converted to Scalar"
     ]
    }
   ],
   "source": [
    "testing.item()"
   ]
  },
  {
   "cell_type": "code",
   "execution_count": 25,
   "metadata": {},
   "outputs": [
    {
     "data": {
      "text/plain": [
       "tensor(11.5000)"
      ]
     },
     "execution_count": 25,
     "metadata": {},
     "output_type": "execute_result"
    }
   ],
   "source": [
    "testing.mean().mean()"
   ]
  },
  {
   "cell_type": "code",
   "execution_count": 43,
   "metadata": {},
   "outputs": [
    {
     "name": "stdout",
     "output_type": "stream",
     "text": [
      "cls_pred tensor([2, 0, 2, 1])\n",
      "rot_start tensor([12,  0, 12,  6])\n",
      "trans_start tensor([6, 0, 6, 3])\n",
      "R_indexing tensor([[12, 13, 14, 15, 16, 17],\n",
      "        [ 0,  1,  2,  3,  4,  5],\n",
      "        [12, 13, 14, 15, 16, 17],\n",
      "        [ 6,  7,  8,  9, 10, 11]])\n",
      "t_indexing tensor([[6, 7, 8],\n",
      "        [0, 1, 2],\n",
      "        [6, 7, 8],\n",
      "        [3, 4, 5]])\n",
      "Extracted Rotation Matrices:\n",
      "torch.Size([4, 6])\n",
      "\n",
      "Extracted Translation Matrices:\n",
      "torch.Size([4, 3])\n"
     ]
    }
   ],
   "source": [
    "import torch\n",
    "import pandas as pd\n",
    "\n",
    "\n",
    "\n",
    "# Simulated batch size and number of classes\n",
    "batch_size = 4\n",
    "num_classes = 3  # Assume 3 possible classes\n",
    "dim_rot = 6  # 6D rotation representation\n",
    "\n",
    "# Simulated predictions (random values)\n",
    "R_pred = torch.rand(batch_size, num_classes * dim_rot)  # Rotation predictions\n",
    "t_pred = torch.rand(batch_size, num_classes * 3)  # Translation predictions\n",
    "\n",
    "# Simulated class predictions (random integer class indices per sample)\n",
    "cls_pred = torch.randint(0, num_classes, (batch_size,))  # Random class index per sample\n",
    "\n",
    "print('cls_pred', cls_pred)\n",
    "# Ensure integer type\n",
    "cls_index = cls_pred.long()\n",
    "\n",
    "# Compute per-sample start indices\n",
    "rot_start = cls_index * dim_rot\n",
    "trans_start = cls_index * 3\n",
    "\n",
    "print('rot_start', rot_start)\n",
    "print('trans_start', trans_start)\n",
    "\n",
    "# Extract the rotation and translation using batch-wise advanced indexing\n",
    "R_indexing = torch.stack([torch.arange(rot_start[i], rot_start[i] + dim_rot) for i in range(batch_size)])\n",
    "t_indexing = torch.stack([torch.arange(trans_start[i], trans_start[i] + 3) for i in range(batch_size)])\n",
    "\n",
    "print('R_indexing', R_indexing)\n",
    "print('t_indexing', t_indexing)\n",
    "R_extracted = R_pred[torch.arange(batch_size)[:, None], R_indexing]\n",
    "t_extracted = t_pred[torch.arange(batch_size)[:, None], t_indexing]\n",
    "\n",
    "# Print extracted matrices\n",
    "print(\"Extracted Rotation Matrices:\")\n",
    "print(R_extracted.shape)\n",
    "print(\"\\nExtracted Translation Matrices:\")\n",
    "print(t_extracted.shape)\n"
   ]
  },
  {
   "cell_type": "code",
   "execution_count": 45,
   "metadata": {},
   "outputs": [
    {
     "data": {
      "text/plain": [
       "tensor([[0.4717, 0.8509, 0.1280, 0.8388, 0.1803, 0.6633, 0.8244, 0.6493, 0.5884,\n",
       "         0.1518, 0.4907, 0.8135, 0.5296, 0.3104, 0.8536, 0.1434, 0.9107, 0.2711],\n",
       "        [0.8638, 0.3225, 0.9721, 0.4990, 0.0674, 0.0750, 0.2197, 0.6394, 0.6462,\n",
       "         0.6034, 0.7747, 0.9423, 0.5737, 0.9066, 0.2224, 0.4659, 0.5855, 0.8161],\n",
       "        [0.4443, 0.2776, 0.1897, 0.7521, 0.8063, 0.6408, 0.8260, 0.3800, 0.2582,\n",
       "         0.9961, 0.9415, 0.4123, 0.1445, 0.5815, 0.2683, 0.2465, 0.0472, 0.9260],\n",
       "        [0.3122, 0.9945, 0.6771, 0.0409, 0.0926, 0.7901, 0.7045, 0.2023, 0.9303,\n",
       "         0.9630, 0.2565, 0.0662, 0.5055, 0.4021, 0.9066, 0.9510, 0.2335, 0.4566]])"
      ]
     },
     "execution_count": 45,
     "metadata": {},
     "output_type": "execute_result"
    }
   ],
   "source": [
    "R_pred"
   ]
  },
  {
   "cell_type": "code",
   "execution_count": 44,
   "metadata": {},
   "outputs": [
    {
     "data": {
      "text/plain": [
       "tensor([[0.5296, 0.3104, 0.8536, 0.1434, 0.9107, 0.2711],\n",
       "        [0.8638, 0.3225, 0.9721, 0.4990, 0.0674, 0.0750],\n",
       "        [0.1445, 0.5815, 0.2683, 0.2465, 0.0472, 0.9260],\n",
       "        [0.7045, 0.2023, 0.9303, 0.9630, 0.2565, 0.0662]])"
      ]
     },
     "execution_count": 44,
     "metadata": {},
     "output_type": "execute_result"
    }
   ],
   "source": [
    "R_extracted"
   ]
  },
  {
   "cell_type": "code",
   "execution_count": 46,
   "metadata": {},
   "outputs": [
    {
     "data": {
      "text/plain": [
       "tensor([[0.7618, 0.3083, 0.5601],\n",
       "        [0.3799, 0.4520, 0.3295],\n",
       "        [0.6412, 0.4071, 0.5284],\n",
       "        [0.4910, 0.4273, 0.3910]])"
      ]
     },
     "execution_count": 46,
     "metadata": {},
     "output_type": "execute_result"
    }
   ],
   "source": [
    "t_extracted"
   ]
  },
  {
   "cell_type": "code",
   "execution_count": 48,
   "metadata": {},
   "outputs": [
    {
     "data": {
      "text/plain": [
       "tensor([[0.5338, 0.8820, 0.7120, 0.1937, 0.9668, 0.5100, 0.7618, 0.3083, 0.5601],\n",
       "        [0.3799, 0.4520, 0.3295, 0.8789, 0.5184, 0.3284, 0.0094, 0.0646, 0.9384],\n",
       "        [0.1873, 0.1266, 0.1857, 0.9356, 0.8210, 0.0435, 0.6412, 0.4071, 0.5284],\n",
       "        [0.4274, 0.7709, 0.1901, 0.4910, 0.4273, 0.3910, 0.1683, 0.7589, 0.8664]])"
      ]
     },
     "execution_count": 48,
     "metadata": {},
     "output_type": "execute_result"
    }
   ],
   "source": [
    "t_pred"
   ]
  },
  {
   "cell_type": "code",
   "execution_count": 51,
   "metadata": {},
   "outputs": [],
   "source": [
    "def extract_rotation_translation_matrices(cls_pred, R_pred, t_pred, dimension_rotation, dimension_translation):\n",
    "    cls_index = cls_pred.long()\n",
    "    batch_size = R_pred.shape[0]\n",
    "    \n",
    "    rot_start = cls_index * dimension_rotation\n",
    "    trans_start = cls_index * dimension_translation\n",
    "\n",
    "    R_indexing = torch.stack([torch.arange(rot_start[i], rot_start[i] + dimension_rotation) for i in range(batch_size)])\n",
    "    t_indexing = torch.stack([torch.arange(trans_start[i], trans_start[i] + dimension_translation) for i in range(batch_size)])\n",
    "\n",
    "    R_extracted = R_pred[torch.arange(batch_size)[:, None], R_indexing]\n",
    "    t_extracted = t_pred[torch.arange(batch_size)[:, None], t_indexing]\n",
    "\n",
    "    return R_extracted, t_extracted"
   ]
  },
  {
   "cell_type": "code",
   "execution_count": 52,
   "metadata": {},
   "outputs": [
    {
     "data": {
      "text/plain": [
       "(tensor([[0.5296, 0.3104, 0.8536, 0.1434, 0.9107, 0.2711],\n",
       "         [0.8638, 0.3225, 0.9721, 0.4990, 0.0674, 0.0750],\n",
       "         [0.1445, 0.5815, 0.2683, 0.2465, 0.0472, 0.9260],\n",
       "         [0.7045, 0.2023, 0.9303, 0.9630, 0.2565, 0.0662]]),\n",
       " tensor([[0.7618, 0.3083, 0.5601],\n",
       "         [0.3799, 0.4520, 0.3295],\n",
       "         [0.6412, 0.4071, 0.5284],\n",
       "         [0.4910, 0.4273, 0.3910]]))"
      ]
     },
     "execution_count": 52,
     "metadata": {},
     "output_type": "execute_result"
    }
   ],
   "source": [
    "extract_rotation_translation_matrices(cls_pred, R_pred, t_pred, dim_rot, 3)"
   ]
  },
  {
   "cell_type": "code",
   "execution_count": 54,
   "metadata": {},
   "outputs": [
    {
     "data": {
      "text/plain": [
       "tensor([[0.7618, 0.3083, 0.5601],\n",
       "        [0.3799, 0.4520, 0.3295],\n",
       "        [0.6412, 0.4071, 0.5284],\n",
       "        [0.4910, 0.4273, 0.3910]])"
      ]
     },
     "execution_count": 54,
     "metadata": {},
     "output_type": "execute_result"
    }
   ],
   "source": [
    "t_extracted"
   ]
  },
  {
   "cell_type": "code",
   "execution_count": 56,
   "metadata": {},
   "outputs": [
    {
     "data": {
      "text/plain": [
       "tensor([], size=(0, 3))"
      ]
     },
     "execution_count": 56,
     "metadata": {},
     "output_type": "execute_result"
    }
   ],
   "source": [
    "t_extracted[[False, False, False, False]]"
   ]
  },
  {
   "cell_type": "code",
   "execution_count": null,
   "metadata": {},
   "outputs": [],
   "source": []
  }
 ],
 "metadata": {
  "kernelspec": {
   "display_name": "ML-Algorithm-LowerVersion",
   "language": "python",
   "name": "python3"
  },
  "language_info": {
   "codemirror_mode": {
    "name": "ipython",
    "version": 3
   },
   "file_extension": ".py",
   "mimetype": "text/x-python",
   "name": "python",
   "nbconvert_exporter": "python",
   "pygments_lexer": "ipython3",
   "version": "3.10.0"
  }
 },
 "nbformat": 4,
 "nbformat_minor": 2
}
